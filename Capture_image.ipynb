{
 "cells": [
  {
   "cell_type": "code",
   "execution_count": null,
   "metadata": {},
   "outputs": [],
   "source": [
    "import numpy\n",
    "import cv2\n",
    "import os\n",
    "import datetime\n",
    "\n",
    "\n",
    "cap = cv2.VideoCapture(1)\n",
    "cap.set(cv2.CAP_PROP_FRAME_WIDTH, 640)\n",
    "cap.set(cv2.CAP_PROP_FRAME_HEIGHT, 480)\n",
    "\n",
    "cap_dir = \"./Capture/\"\n",
    "now = datetime.datetime.now().strftime(\"%m%d_%H%M\")\n",
    "now_dir = cap_dir+now\n",
    "os.mkdir(now_dir)\n",
    "\n",
    "while True:\n",
    "    ret, frame = cap.read()\n",
    "    cv2.imshow(\"VideoFrame\", frame)\n",
    "        \n",
    "    if cv2.waitKey(10) == ord('q'):\n",
    "        break\n",
    "    elif cv2.waitKey(10) == ord('c'):\n",
    "        cv2.imwrite(now_dir+\"/\"+datetime.datetime.now().strftime(\"%M%S\")+\".jpg\", frame)\n",
    "        \n",
    "cap.release()\n",
    "cv2.destroyAllWindows()"
   ]
  }
 ],
 "metadata": {
  "kernelspec": {
   "display_name": "Python 3",
   "language": "python",
   "name": "python3"
  },
  "language_info": {
   "codemirror_mode": {
    "name": "ipython",
    "version": 3
   },
   "file_extension": ".py",
   "mimetype": "text/x-python",
   "name": "python",
   "nbconvert_exporter": "python",
   "pygments_lexer": "ipython3",
   "version": "3.8.3"
  }
 },
 "nbformat": 4,
 "nbformat_minor": 4
}
