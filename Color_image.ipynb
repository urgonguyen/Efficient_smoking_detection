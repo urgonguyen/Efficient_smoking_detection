{
 "cells": [
  {
   "cell_type": "code",
   "execution_count": null,
   "id": "mineral-intensity",
   "metadata": {},
   "outputs": [],
   "source": [
    "from PIL import Image, ImageEnhance\n",
    "import glob\n",
    "import os\n",
    "path1 = \"C:/Users/Admin/test_dataAugmentation/test/smoke/*.*\"\n",
    "for file in glob.glob(path1):\n",
    "    img = Image.open(file)\n",
    "    enhancer = ImageEnhance.Color(img)\n",
    "    image = enhancer.enhance(8/4.0)\n",
    "    basename = os.path.basename(file)\n",
    "    id_img =basename.rsplit('.',1)[0]\n",
    "    #print(id_img)\n",
    "    image = image.save(f'C:/Users/Admin/test_dataAugmentation/smoke_con/test/non_smoke/{id_img}.jpg')"
   ]
  }
 ],
 "metadata": {
  "kernelspec": {
   "display_name": "Python 3",
   "language": "python",
   "name": "python3"
  },
  "language_info": {
   "codemirror_mode": {
    "name": "ipython",
    "version": 3
   },
   "file_extension": ".py",
   "mimetype": "text/x-python",
   "name": "python",
   "nbconvert_exporter": "python",
   "pygments_lexer": "ipython3",
   "version": "3.8.3"
  }
 },
 "nbformat": 4,
 "nbformat_minor": 5
}
