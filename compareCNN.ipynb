{
 "cells": [
  {
   "cell_type": "code",
   "execution_count": null,
   "metadata": {},
   "outputs": [],
   "source": [
    "from keras.layers import Dense,Dropout\n",
    "from keras import Sequential\n",
    "from keras.preprocessing.image import ImageDataGenerator\n",
    "import pandas as pd \n",
    "import os\n",
    "\n",
    "import efficientnet.keras as efn\n",
    "from keras.applications.vgg16 import VGG16\n",
    "from keras.applications.resnet50 import ResNet50\n",
    "from keras.applications import densenet\n"
   ]
  },
  {
   "cell_type": "code",
   "execution_count": null,
   "metadata": {},
   "outputs": [],
   "source": [
    "from keras.optimizers import Adam\n",
    "optimizer = Adam(lr = 0.0003 , decay = 0.000001)"
   ]
  },
  {
   "cell_type": "code",
   "execution_count": null,
   "metadata": {},
   "outputs": [],
   "source": [
    "from keras.callbacks import EarlyStopping , ModelCheckpoint\n",
    "es = EarlyStopping(patience=3)\n",
    "mc = ModelCheckpoint(\"tongue_b6_acc5.h5\",save_best_only = True)"
   ]
  },
  {
   "cell_type": "code",
   "execution_count": null,
   "metadata": {},
   "outputs": [],
   "source": [
    "train_datagen = ImageDataGenerator(\n",
    "    rescale=1./255,\n",
    "    rotation_range=30,\n",
    "    width_shift_range=0.2,\n",
    "    height_shift_range=0.2,\n",
    "    shear_range=0.2,\n",
    "    zoom_range=0.2,\n",
    "    horizontal_flip=True,\n",
    "    brightness_range=[0.2,0.8],\n",
    "    validation_split=0.2,\n",
    ")\n",
    "test_datagen = ImageDataGenerator(rescale = 1./255)"
   ]
  },
  {
   "cell_type": "code",
   "execution_count": null,
   "metadata": {},
   "outputs": [],
   "source": [
    "train_dir = \"./Capture/smoke_con/train/\"\n",
    "valid_dir = \"./Capture/smoke_con/validation/\"\n",
    "test_dir = \"./Capture/smoke_con/test/\""
   ]
  },
  {
   "cell_type": "code",
   "execution_count": null,
   "metadata": {},
   "outputs": [],
   "source": [
    "train_generator = train_datagen.flow_from_directory(\n",
    "    train_dir,\n",
    "    target_size=(300,300),\n",
    "    batch_size=25,\n",
    "    class_mode='binary')\n",
    "valid_generator = test_datagen.flow_from_directory(\n",
    "    valid_dir,\n",
    "    target_size=(300,300),\n",
    "    batch_size=25,\n",
    "    class_mode='binary')"
   ]
  },
  {
   "cell_type": "code",
   "execution_count": null,
   "metadata": {},
   "outputs": [],
   "source": [
    "model1 = Sequential()\n",
    "model1.add(efn.EfficientNetB1(weights='imagenet', include_top = False, pooling='avg'))\n",
    "model1.add(Dense(1,activation=\"sigmoid\"))\n",
    "model1.compile(loss='binary_crossentropy',optimizer=optimizer,metrics=[\"acc\"])\n",
    "\n",
    "hist1 = model1.fit(\n",
    "    train_generator,\n",
    "    steps_per_epoch =5,\n",
    "    epochs = 100,\n",
    "    validation_data = valid_generator,\n",
    "    validation_steps=5,\n",
    "    callbacks = [es,mc]\n",
    ")"
   ]
  },
  {
   "cell_type": "code",
   "execution_count": null,
   "metadata": {},
   "outputs": [],
   "source": [
    "model2 = Sequential()\n",
    "model2.add(VGG16(weights='imagenet', include_top = False, pooling='avg'))\n",
    "model2.add(Dense(1,activation=\"sigmoid\"))\n",
    "model2.compile(loss='binary_crossentropy',optimizer=optimizer,metrics=[\"acc\"])\n",
    "\n",
    "hist2 = model2.fit_generator(\n",
    "    train_generator,\n",
    "    epochs = 100,\n",
    "    validation_data = valid_generator\n",
    ")"
   ]
  },
  {
   "cell_type": "code",
   "execution_count": null,
   "metadata": {},
   "outputs": [],
   "source": [
    "model3 = Sequential()\n",
    "model3.add(ResNet50(weights='imagenet', include_top = False, pooling='avg'))\n",
    "model3.add(Dense(1,activation=\"sigmoid\"))\n",
    "model3.compile(loss='binary_crossentropy',optimizer=optimizer,metrics=[\"acc\"])\n",
    "\n",
    "hist3 = model3.fit_generator(\n",
    "    train_generator,\n",
    "    epochs = 100,\n",
    "    validation_data = valid_generator\n",
    ")"
   ]
  },
  {
   "cell_type": "code",
   "execution_count": null,
   "metadata": {},
   "outputs": [],
   "source": [
    "model4 = Sequential()\n",
    "model4.add(densenet.DenseNet121(weights='imagenet', include_top = False, pooling='avg'))\n",
    "model4.add(Dense(1,activation=\"sigmoid\"))\n",
    "model4.compile(loss='binary_crossentropy',optimizer=optimizer,metrics=[\"acc\"])\n",
    "\n",
    "hist4 = model4.fit_generator(\n",
    "    train_generator,\n",
    "    epochs = 100,\n",
    "    validation_data = valid_generator\n",
    ")"
   ]
  },
  {
   "cell_type": "code",
   "execution_count": null,
   "metadata": {},
   "outputs": [],
   "source": [
    "eva_train1 = model1.evaluate_generator(train_generator,workers = 4,verbose=1)\n",
    "eva_train2 = model2.evaluate_generator(train_generator,workers = 4,verbose=1)\n",
    "eva_train3 = model3.evaluate_generator(train_generator,workers = 4,verbose=1)\n",
    "eva_train4 = model4.evaluate_generator(train_generator,workers = 4,verbose=1)\n",
    "\n",
    "\n",
    "print('EfficientNetB1: '+str(eva_train1[1]))\n",
    "print('VGG16: '+str(eva_train2[1]))\n",
    "print('ResNet50: '+str(eva_train3[1]))\n",
    "print('DenseNet121: '+str(eva_train4[1]))"
   ]
  },
  {
   "cell_type": "code",
   "execution_count": null,
   "metadata": {},
   "outputs": [],
   "source": [
    "import matplotlib.pyplot as plt\n",
    "\n",
    "acc1 = hist1.history['acc']\n",
    "acc2 = hist2.history['acc']\n",
    "acc3 = hist3.history['acc']\n",
    "acc4 = hist4.history['acc']\n",
    "\n",
    "plt.plot(acc1, label='EfficientNetB6')\n",
    "plt.plot(acc2, label='VGG16')\n",
    "plt.plot(acc3, label='ResNet50')\n",
    "plt.plot(acc4, label='DenseNet121')\n",
    "\n",
    "plt.xlabel('epoch')\n",
    "plt.ylabel('accuracy')\n",
    "plt.legend()\n",
    "\n",
    "plt.show()"
   ]
  },
  {
   "cell_type": "code",
   "execution_count": null,
   "metadata": {},
   "outputs": [],
   "source": [
    "import matplotlib.pyplot as plt\n",
    "loss1 = hist1.history['loss']\n",
    "loss2 = hist2.history['loss']\n",
    "loss3 = hist3.history['loss']\n",
    "loss4 = hist4.history['loss']\n",
    "\n",
    "plt.plot(loss1, label='EfficientNetB6')\n",
    "plt.plot(loss2, label='VGG16')\n",
    "\n",
    "plt.plot(loss3, label='ResNet50')\n",
    "plt.plot(loss4, label='DenseNet121')\n",
    "\n",
    "plt.xlabel('epoch')\n",
    "plt.ylabel('loss')\n",
    "plt.legend()\n",
    "\n",
    "plt.show()"
   ]
  },
  {
   "cell_type": "code",
   "execution_count": null,
   "metadata": {},
   "outputs": [],
   "source": [
    "test_generator = test_datagen.flow_from_directory(test_dir,\n",
    "                                          target_size=(300, 300),\n",
    "                                          batch_size=25,\n",
    "                                          class_mode='binary')"
   ]
  },
  {
   "cell_type": "code",
   "execution_count": null,
   "metadata": {},
   "outputs": [],
   "source": [
    "evaluate1 = model1.evaluate_generator(test_generator,workers = 4,verbose=1)\n",
    "evaluate2 = model2.evaluate_generator(test_generator,workers = 4,verbose=1)\n",
    "evaluate3 = model3.evaluate_generator(test_generator,workers = 4,verbose=1)\n",
    "evaluate4 = model4.evaluate_generator(test_generator,workers = 4,verbose=1)\n",
    "\n",
    "\n",
    "print('EfficientNetB1: '+str(evaluate1[1]))\n",
    "print('VGG16: '+str(evaluate2[1]))\n",
    "print('ResNet50: '+str(evaluate3[1]))\n",
    "print('DenseNet121: '+str(evaluate4[1]))"
   ]
  },
  {
   "cell_type": "code",
   "execution_count": null,
   "metadata": {},
   "outputs": [],
   "source": []
  }
 ],
 "metadata": {
  "kernelspec": {
   "display_name": "Python 3",
   "language": "python",
   "name": "python3"
  },
  "language_info": {
   "codemirror_mode": {
    "name": "ipython",
    "version": 3
   },
   "file_extension": ".py",
   "mimetype": "text/x-python",
   "name": "python",
   "nbconvert_exporter": "python",
   "pygments_lexer": "ipython3",
   "version": "3.8.3"
  }
 },
 "nbformat": 4,
 "nbformat_minor": 4
}
